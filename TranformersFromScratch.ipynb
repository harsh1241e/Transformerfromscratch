{
  "cells": [
    {
      "cell_type": "code",
      "execution_count": null,
      "metadata": {
        "id": "kwgjlY-oSyLC"
      },
      "outputs": [],
      "source": [
        "import torch"
      ]
    },
    {
      "cell_type": "code",
      "execution_count": null,
      "metadata": {
        "id": "B9PjRwnrTbnL"
      },
      "outputs": [],
      "source": [
        "import math\n",
        "import torch.nn as nn\n",
        "class InputEmbeddings(nn.Module):\n",
        "  def __init__(self,  d_model : int , vocab_size : int):\n",
        "    super().__init__()\n",
        "    self.d_model = d_model\n",
        "    self.vocab_size = vocab_size\n",
        "    self.embedding = nn.Embedding(vocab_size , d_model )\n",
        "  def forward(self , x):\n",
        "    return self.embedding(x) * math.sqrt(self.d_model)\n",
        "\n",
        "\n"
      ]
    },
    {
      "cell_type": "code",
      "execution_count": null,
      "metadata": {
        "id": "BQQ9OiyLV7nj"
      },
      "outputs": [],
      "source": [
        "#Positional Encoding\n",
        "#will work only for even d_model\n",
        "class PositionalEncoding(nn.Module):\n",
        "  def __init__(self , d_model : int , seq_len : int , dropout: float) -> None :\n",
        "    super().__init__()\n",
        "    self.d_model = d_model\n",
        "    self.seq_len = seq_len\n",
        "    self.dropout = nn.Dropout(dropout)\n",
        "    #(seq_len , d_model)\n",
        "    pe = torch.zeros(seq_len , d_model)\n",
        "    #create a vector of shape\n",
        "    position = torch.arange( seq_len , dtype = torch.float ).unsqueeze(1) #(seq_len , 1)\n",
        "    div_term = torch.exp(torch.arange(0 , d_model  , 2).float()*(-math.log(10000.0) / d_model))\n",
        "    pe[: , 0::2] = torch.sin(position * div_term)\n",
        "\n",
        "    pe[: , 1::2] = torch.cos(position*div_term)\n",
        "\n",
        "    pe = pe.unsqueeze(0) #(1 , Seq_len , d_model)\n",
        "\n",
        "    self.register_buffer('pe' , pe)\n",
        "  def forward(self , x):\n",
        "    x = x + (self.pe[: , : x.shape[1] , : ]).required_grad_(False)\n",
        "    return x"
      ]
    },
    {
      "cell_type": "code",
      "execution_count": null,
      "metadata": {
        "id": "X26vFDMXe6eN"
      },
      "outputs": [],
      "source": [
        "class Layer_Normalization(nn.Module):\n",
        "  def __init__(self , eps = 1e-6):\n",
        "    super().__init__()\n",
        "    self.eps = eps\n",
        "    self.alpha = nn.Parameter(torch.ones(1))\n",
        "    self.bias = nn.Parameter(torch.zeros(1))\n",
        "  def forward(self , x):\n",
        "    #x -> (n  , seq_len , d_model)\n",
        "    mean = torch.mean(x , dim = -1 , keepdim = True)\n",
        "    std = torch.std(x ,dim = -1 , keepdim =  True )\n",
        "\n",
        "\n",
        "    return self.alpha * (x - mean) / (std + self.eps) + self.bias\n",
        "\n"
      ]
    },
    {
      "cell_type": "code",
      "execution_count": null,
      "metadata": {
        "id": "L3_yqw1QhtDx"
      },
      "outputs": [],
      "source": [
        "class FeedForwardBlock(nn.Module):\n",
        "  def __init__(self , d_model : int , d_hidden : int  , dropout : int):\n",
        "    super().__init__()\n",
        "    self.dropout = dropout\n",
        "    self.d_model = d_model\n",
        "    self.layers = nn.Sequential( nn.Linear(d_model , d_hidden ), nn.Dropout(dropout) , nn.ReLU() , nn.Linear(d_hidden , d_model ) , nn.ReLU())\n",
        "  def forward(self , x):\n",
        "    return self.layers(x)\n",
        "\n"
      ]
    },
    {
      "cell_type": "code",
      "execution_count": null,
      "metadata": {
        "id": "LAIvRow3z0ik"
      },
      "outputs": [],
      "source": [
        "class MultiHeadAttention(nn.Module):\n",
        "  def __init__(self , d_model : int , h : int , dropout : float ) -> None :\n",
        "    super().__init__()\n",
        "    self.d_model = d_model\n",
        "    self.h = h\n",
        "    assert d_model % h ==0\n",
        "    self.d_k = d_model // h\n",
        "    self.w_q = nn.Linear(d_model , d_model)\n",
        "    self.w_k = nn.Linear(d_model , d_model)\n",
        "    self.w_v = nn.Linear(d_model , d_model)\n",
        "    self.w_o = nn.Linear(d_model , d_model)\n",
        "    self.dropout = nn.Dropout(dropout)\n",
        "  @staticmethod\n",
        "  def attention(query , key , value , mask , dropout : nn.Dropout):\n",
        "    d_k = query.shape[-1]\n",
        "    attention_scores = (query @ key.transpose(-2 , -1)) / math.sqrt(d_k)\n",
        "    if mask is not None:\n",
        "      attention_scores.masked_fill_(mask == 0 , -1e9)\n",
        "    attention_scores = attention_scores.softmax(dim = -1)\n",
        "    if dropout is not None:\n",
        "      attention_scores = dropout(attention_scores)\n",
        "    return (attention_scores @ value) , attention_scores\n",
        "\n",
        "\n",
        "\n",
        "\n",
        "  def forward(self , q , k , v , mask):\n",
        "    query = self.w_q(q)\n",
        "    key = self.w_k(k)\n",
        "    value = self.w_v(v)\n",
        "    query = query.view(query.shape[0] , query.shape[1] , self.h , self.d_k).transpose(1,2)\n",
        "    key = key.view(key.shape[0] , key.shape[1] , self.h , self.d_k).transpose(1,2)\n",
        "    value = value.view(value.shape[0] , value.shape[1] , self.h , self.d_k).transpose(1,2)\n",
        "    x , self.attention_scores = MultiHeadAttention.attention(query , key  , value , mask , self.dropout)\n",
        "    x.transpose(1,2)#(batch, head , seq , d_k) ---> ((batch, seq , head , d_k))\n",
        "    x = x.contiguous().view(x.shape[0] , -1 , self.h * self.d_k)\n",
        "    return self.w_o(x)\n",
        "\n",
        "\n"
      ]
    },
    {
      "cell_type": "code",
      "execution_count": null,
      "metadata": {
        "id": "qSl9XdaaASpw"
      },
      "outputs": [],
      "source": [
        "class ResidualConnection(nn.Module):\n",
        "  def __init__(self , dropout : float):\n",
        "    super().__init__()\n",
        "    self.dropout = nn.Dropout(dropout)\n",
        "    self.norm = Layer_Normalization()\n",
        "  def forward(self , x , sublayer):\n",
        "    return x + self.dropout(sublayer(self.norm(x)))\n",
        "\n",
        "\n"
      ]
    },
    {
      "cell_type": "code",
      "execution_count": null,
      "metadata": {
        "id": "Zm51tfikASqj"
      },
      "outputs": [],
      "source": [
        "class EncoderBlock(nn.Module):\n",
        "  def __init__(self , self_attention_block : MultiHeadAttention , feed_forward_block : FeedForwardBlock , dropout : float):\n",
        "    super().__init__()\n",
        "    self.self_attention_block = self_attention_block\n",
        "    self.feed_forward_block = feed_forward_block\n",
        "    self.residual_connections = nn.ModuleList([ResidualConnection(dropout) for _ in range(2)])\n",
        "\n",
        "  def forward(self, x , src_mask):\n",
        "    x = self.residual_connections[0](x , lambda x : self.self_attention_block(x , x , x , src_mask))\n",
        "    x = self.layer_normalization(x)\n",
        "    x = self.residual_connections[1](x , lambda x : self.feed_forward_block(x))\n",
        "\n",
        "    return x\n",
        "\n"
      ]
    },
    {
      "cell_type": "code",
      "execution_count": null,
      "metadata": {
        "id": "XVrlrS3CLZ9_"
      },
      "outputs": [],
      "source": [
        "class Encoder(nn.Module):\n",
        "  def __init__(self , layers : nn.ModuleList ) -> None :\n",
        "    super().__init__()\n",
        "    self.layers = layers\n",
        "    self.norm = Layer_Normalization()\n",
        "  def forward(self , x , mask):\n",
        "    for layer in self.layers:\n",
        "      x = layer(x , mask)\n",
        "    return self.norm(x)\n",
        "\n"
      ]
    },
    {
      "cell_type": "code",
      "execution_count": null,
      "metadata": {
        "id": "ditYs_pJLZ-w"
      },
      "outputs": [],
      "source": [
        "class DecoderBlock(nn.Module):\n",
        "  def __init__(self , self_attention_block : MultiHeadAttention ,feed_forward_block : FeedForwardBlock , dropout : float):\n",
        "    super().__init__()\n",
        "    self.self_attention_block = nn.ModuleList([self_attention_block for _ in range(2) ])\n",
        "    self.feed_forward_block = feed_forward_block\n",
        "    self.residual_connections = nn.ModuleList([ResidualConnection(dropout) for _ in range(3)])\n",
        "    self.norm = Layer_Normalization()\n",
        "    self.dropout = dropout\n",
        "  def forward(self , x , self_attention_block ,v , k , src_mask):\n",
        "    x =(self.residual_connections[0](x , lambda x : self.self_attention_block[0](x , x , x ,src_mask)))\n",
        "    #passing lambda function as sublayer\n",
        "    x = (self.residual_connections[1](x , lambda x : self.self_attention_block[1](x , k , v , None , self.dropout )))\n",
        "    # last feed forward layer\n",
        "    x = (self.residual_connections[2](x , lambda x : self.feed_forward_block(x)))\n",
        "    return x\n",
        "\n"
      ]
    },
    {
      "cell_type": "code",
      "execution_count": null,
      "metadata": {
        "id": "HSAqdwPvaJ40"
      },
      "outputs": [],
      "source": [
        "class DecoderBlock(nn.Module):\n",
        "  def __init__(self , self_attention_block : MultiHeadAttention ,cross_attention_block : MultiHeadAttention ,feed_forward_block : FeedForwardBlock , dropout : float  ):\n",
        "    super().__init__()\n",
        "    self.self_attention_block = self_attention_block\n",
        "    self.cross_attention_block = cross_attention_block\n",
        "    self.feed_forward_block = feed_forward_block\n",
        "    self.residual_connections = nn.ModuleList([ResidualConnection(dropout) for _ in range(3)])\n",
        "    self.norm = Layer_Normalization()\n",
        "  def forward(self , x ,encoder_output , src_mask , tgt_mask):\n",
        "    x = self.residual_connections[0](x , lambda x : self.self_attention_block(x , x , x , tgt_mask))\n",
        "    x = self.residual_connections[1](x , lambda x : self.cross_attention_block(x , encoder_output , encoder_output , src_mask))\n",
        "    x = self.residual_connections[2](x , lambda x : self.feed_forward_block(x))\n",
        "    return x"
      ]
    },
    {
      "cell_type": "code",
      "execution_count": null,
      "metadata": {
        "id": "hQr3ZppaaJ5m"
      },
      "outputs": [],
      "source": [
        "class Decoder(nn.Module):\n",
        "  def __init__(self, layers : nn.ModuleList):\n",
        "    super().__init__()\n",
        "    self.layers = layers\n",
        "    self.norm = Layer_Normalization()\n",
        "  def forward(self , x , encoder_output , src_mask , tgt_mask):\n",
        "    for layer in self.layers:\n",
        "      x = layer(x , encoder_output , src_mask , tgt_mask)\n",
        "    return self.norm(x)"
      ]
    },
    {
      "cell_type": "code",
      "execution_count": null,
      "metadata": {
        "id": "WoC8C7gqbrRb"
      },
      "outputs": [],
      "source": [
        "class ProjectionLayer(nn.Module):\n",
        "  def __init__(self , d_model : int , vocab_size : int):\n",
        "    super().__init__()\n",
        "    self.proj = nn.Linear(d_model , vocab_size)\n",
        "  def forward(self , x):\n",
        "    return torch.log_softmax(self.proj(x) , dim = -1)"
      ]
    },
    {
      "cell_type": "code",
      "source": [
        "transformer = Tranformer(encoder , decoder , src_embed , tgt_embed , src_pos , tgt_pos , projection)"
      ],
      "metadata": {
        "colab": {
          "base_uri": "https://localhost:8080/",
          "height": 162
        },
        "id": "YN50t0daGQsk",
        "outputId": "40620954-900a-48ec-afa1-733f2c446906"
      },
      "execution_count": null,
      "outputs": [
        {
          "output_type": "error",
          "ename": "NameError",
          "evalue": "name 'Tranformer' is not defined",
          "traceback": [
            "\u001b[0;31m---------------------------------------------------------------------------\u001b[0m",
            "\u001b[0;31mNameError\u001b[0m                                 Traceback (most recent call last)",
            "\u001b[0;32m<ipython-input-14-c8d9e44ec705>\u001b[0m in \u001b[0;36m<cell line: 1>\u001b[0;34m()\u001b[0m\n\u001b[0;32m----> 1\u001b[0;31m \u001b[0mtransformer\u001b[0m \u001b[0;34m=\u001b[0m \u001b[0mTranformer\u001b[0m\u001b[0;34m(\u001b[0m\u001b[0mencoder\u001b[0m \u001b[0;34m,\u001b[0m \u001b[0mdecoder\u001b[0m \u001b[0;34m,\u001b[0m \u001b[0msrc_embed\u001b[0m \u001b[0;34m,\u001b[0m \u001b[0mtgt_embed\u001b[0m \u001b[0;34m,\u001b[0m \u001b[0msrc_pos\u001b[0m \u001b[0;34m,\u001b[0m \u001b[0mtgt_pos\u001b[0m \u001b[0;34m,\u001b[0m \u001b[0mprojection\u001b[0m\u001b[0;34m)\u001b[0m\u001b[0;34m\u001b[0m\u001b[0;34m\u001b[0m\u001b[0m\n\u001b[0m",
            "\u001b[0;31mNameError\u001b[0m: name 'Tranformer' is not defined"
          ]
        }
      ]
    },
    {
      "cell_type": "code",
      "execution_count": null,
      "metadata": {
        "id": "9raVGfDlcaJ9"
      },
      "outputs": [],
      "source": [
        "class Tranformer(nn.Module):\n",
        "  def __init__(self , encoder : Encoder , decoder : Decoder , src_embed  , tgt_embeddings , src_pos : PositionalEncoding ,  tgt_emb  , tgt_pos : PositionalEncoding , projection : ProjectionLayer   ) -> None :\n",
        "    super().__init__()\n",
        "    self.encoder = encoder\n",
        "    self.decoder = decoder\n",
        "    self.src_embed = src_embed\n",
        "    self.tgt_embed = tgt_embeddings\n",
        "    self.tgt_pos = tgt_pos\n",
        "    self.src_pos = src_pos\n",
        "    self.projection = projection\n",
        "  def encode(self , src , src_mask):\n",
        "    src = self.src_embed(src)\n",
        "    src = self.src_pos(src)\n",
        "    return self.encoder(src , src_mask)\n",
        "  def decode(self , encoder_output , src_mask , tgt ,  tgt_mask):\n",
        "    tgt = self.tgt_embed(tgt)\n",
        "    tgt = self.tgt_pos(tgt)\n",
        "    return self.decoder(tgt , encoder_output , src_mask , tgt_mask)\n",
        "  def project(self , x ):\n",
        "    return self.projection(x)"
      ]
    },
    {
      "cell_type": "code",
      "execution_count": null,
      "metadata": {
        "id": "bTYoEpuYifo7"
      },
      "outputs": [],
      "source": [
        "#building for translation\n",
        "def build_transformer(src_vocab_size : int , tgt_vocab_size : int , src_seq_len : int , tgt_seq_len : int , d_model : int = 512 , N : int = 6 , h : int = 8 , dropout : float = 0.1 , d_ff:  int =  2048 ):\n",
        "  # create the Embedding layers\n",
        "  src_embed = InputEmbeddings(d_model , src_vocab_size)\n",
        "  tgt_embed = InputEmbeddings(d_model , tgt_vocab_size)\n",
        "  #create Positional Encoding Layers\n",
        "  src_pos = PositionalEncoding(d_model , src_seq_len , dropout)\n",
        "  tgt_pos = PositionalEncoding(d_model , tgt_seq_len , dropout)\n",
        "\n",
        "  #create the encoder blocks\n",
        "  encoder_blocks = []\n",
        "  for _ in range(N):\n",
        "    encoder_self_attention_block = MultiHeadAttention(d_model , h , dropout)\n",
        "    feed_forward_block = FeedForwardBlock(d_model , d_ff, dropout)\n",
        "    encoder_block = EncoderBlock(encoder_self_attention_block , feed_forward_block , dropout)\n",
        "    encoder_blocks.append(encoder_block)\n",
        "  encoder = Encoder(nn.ModuleList(encoder_blocks))\n",
        "  decoder_blocks = []\n",
        "  for _ in range(N):\n",
        "    decoder_self_attention_block = MultiHeadAttention(d_model , h , dropout)\n",
        "    decoder_cross_attention_block = MultiHeadAttention(d_model , h , dropout)\n",
        "    feed_forward_block = FeedForwardBlock(d_model , d_ff, dropout)\n",
        "    decoder_block = DecoderBlock(decoder_self_attention_block , decoder_cross_attention_block , feed_forward_block , dropout)\n",
        "    decoder_blocks.append(decoder_block)\n",
        "  #create encoder and decoder\n",
        "  encoder = Encoder(nn.ModuleList(encoder_blocks))\n",
        "  decoder = Decoder(nn.ModuleList(decoder_blocks))\n",
        "  #create the projection layer\n",
        "  projection = ProjectionLayer(d_model , tgt_vocab_size)\n",
        "\n",
        "  #create the transformer\n",
        "  transformer = Tranformer(encoder , decoder , src_embed , tgt_embed , src_pos , tgt_pos , projection)\n",
        "\n",
        "  #Initialize the parameters\n",
        "  for p in transformer.parameters():\n",
        "    if p.dim() > 1 :\n",
        "      nn.init.xavier_uniform_(p)\n",
        "  return transformer\n",
        "\n",
        "\n",
        "\n"
      ]
    },
    {
      "cell_type": "code",
      "source": [
        "!pip install datasets\n",
        "!pip install tokenizers\n"
      ],
      "metadata": {
        "colab": {
          "base_uri": "https://localhost:8080/"
        },
        "collapsed": true,
        "id": "JHV2gIIL3mmJ",
        "outputId": "8324c207-9b99-440d-82ab-f697bf52caea"
      },
      "execution_count": null,
      "outputs": [
        {
          "output_type": "stream",
          "name": "stdout",
          "text": [
            "Collecting datasets\n",
            "  Downloading datasets-2.21.0-py3-none-any.whl.metadata (21 kB)\n",
            "Requirement already satisfied: filelock in /usr/local/lib/python3.10/dist-packages (from datasets) (3.15.4)\n",
            "Requirement already satisfied: numpy>=1.17 in /usr/local/lib/python3.10/dist-packages (from datasets) (1.26.4)\n",
            "Collecting pyarrow>=15.0.0 (from datasets)\n",
            "  Downloading pyarrow-17.0.0-cp310-cp310-manylinux_2_28_x86_64.whl.metadata (3.3 kB)\n",
            "Collecting dill<0.3.9,>=0.3.0 (from datasets)\n",
            "  Downloading dill-0.3.8-py3-none-any.whl.metadata (10 kB)\n",
            "Requirement already satisfied: pandas in /usr/local/lib/python3.10/dist-packages (from datasets) (2.1.4)\n",
            "Requirement already satisfied: requests>=2.32.2 in /usr/local/lib/python3.10/dist-packages (from datasets) (2.32.3)\n",
            "Requirement already satisfied: tqdm>=4.66.3 in /usr/local/lib/python3.10/dist-packages (from datasets) (4.66.5)\n",
            "Collecting xxhash (from datasets)\n",
            "  Downloading xxhash-3.5.0-cp310-cp310-manylinux_2_17_x86_64.manylinux2014_x86_64.whl.metadata (12 kB)\n",
            "Collecting multiprocess (from datasets)\n",
            "  Downloading multiprocess-0.70.16-py310-none-any.whl.metadata (7.2 kB)\n",
            "Requirement already satisfied: fsspec<=2024.6.1,>=2023.1.0 in /usr/local/lib/python3.10/dist-packages (from fsspec[http]<=2024.6.1,>=2023.1.0->datasets) (2024.6.1)\n",
            "Requirement already satisfied: aiohttp in /usr/local/lib/python3.10/dist-packages (from datasets) (3.10.5)\n",
            "Requirement already satisfied: huggingface-hub>=0.21.2 in /usr/local/lib/python3.10/dist-packages (from datasets) (0.23.5)\n",
            "Requirement already satisfied: packaging in /usr/local/lib/python3.10/dist-packages (from datasets) (24.1)\n",
            "Requirement already satisfied: pyyaml>=5.1 in /usr/local/lib/python3.10/dist-packages (from datasets) (6.0.2)\n",
            "Requirement already satisfied: aiohappyeyeballs>=2.3.0 in /usr/local/lib/python3.10/dist-packages (from aiohttp->datasets) (2.4.0)\n",
            "Requirement already satisfied: aiosignal>=1.1.2 in /usr/local/lib/python3.10/dist-packages (from aiohttp->datasets) (1.3.1)\n",
            "Requirement already satisfied: attrs>=17.3.0 in /usr/local/lib/python3.10/dist-packages (from aiohttp->datasets) (24.2.0)\n",
            "Requirement already satisfied: frozenlist>=1.1.1 in /usr/local/lib/python3.10/dist-packages (from aiohttp->datasets) (1.4.1)\n",
            "Requirement already satisfied: multidict<7.0,>=4.5 in /usr/local/lib/python3.10/dist-packages (from aiohttp->datasets) (6.0.5)\n",
            "Requirement already satisfied: yarl<2.0,>=1.0 in /usr/local/lib/python3.10/dist-packages (from aiohttp->datasets) (1.9.4)\n",
            "Requirement already satisfied: async-timeout<5.0,>=4.0 in /usr/local/lib/python3.10/dist-packages (from aiohttp->datasets) (4.0.3)\n",
            "Requirement already satisfied: typing-extensions>=3.7.4.3 in /usr/local/lib/python3.10/dist-packages (from huggingface-hub>=0.21.2->datasets) (4.12.2)\n",
            "Requirement already satisfied: charset-normalizer<4,>=2 in /usr/local/lib/python3.10/dist-packages (from requests>=2.32.2->datasets) (3.3.2)\n",
            "Requirement already satisfied: idna<4,>=2.5 in /usr/local/lib/python3.10/dist-packages (from requests>=2.32.2->datasets) (3.7)\n",
            "Requirement already satisfied: urllib3<3,>=1.21.1 in /usr/local/lib/python3.10/dist-packages (from requests>=2.32.2->datasets) (2.0.7)\n",
            "Requirement already satisfied: certifi>=2017.4.17 in /usr/local/lib/python3.10/dist-packages (from requests>=2.32.2->datasets) (2024.7.4)\n",
            "Requirement already satisfied: python-dateutil>=2.8.2 in /usr/local/lib/python3.10/dist-packages (from pandas->datasets) (2.8.2)\n",
            "Requirement already satisfied: pytz>=2020.1 in /usr/local/lib/python3.10/dist-packages (from pandas->datasets) (2024.1)\n",
            "Requirement already satisfied: tzdata>=2022.1 in /usr/local/lib/python3.10/dist-packages (from pandas->datasets) (2024.1)\n",
            "Requirement already satisfied: six>=1.5 in /usr/local/lib/python3.10/dist-packages (from python-dateutil>=2.8.2->pandas->datasets) (1.16.0)\n",
            "Downloading datasets-2.21.0-py3-none-any.whl (527 kB)\n",
            "\u001b[2K   \u001b[90m━━━━━━━━━━━━━━━━━━━━━━━━━━━━━━━━━━━━━━━━\u001b[0m \u001b[32m527.3/527.3 kB\u001b[0m \u001b[31m4.5 MB/s\u001b[0m eta \u001b[36m0:00:00\u001b[0m\n",
            "\u001b[?25hDownloading dill-0.3.8-py3-none-any.whl (116 kB)\n",
            "\u001b[2K   \u001b[90m━━━━━━━━━━━━━━━━━━━━━━━━━━━━━━━━━━━━━━━━\u001b[0m \u001b[32m116.3/116.3 kB\u001b[0m \u001b[31m8.6 MB/s\u001b[0m eta \u001b[36m0:00:00\u001b[0m\n",
            "\u001b[?25hDownloading pyarrow-17.0.0-cp310-cp310-manylinux_2_28_x86_64.whl (39.9 MB)\n",
            "\u001b[2K   \u001b[90m━━━━━━━━━━━━━━━━━━━━━━━━━━━━━━━━━━━━━━━━\u001b[0m \u001b[32m39.9/39.9 MB\u001b[0m \u001b[31m13.9 MB/s\u001b[0m eta \u001b[36m0:00:00\u001b[0m\n",
            "\u001b[?25hDownloading multiprocess-0.70.16-py310-none-any.whl (134 kB)\n",
            "\u001b[2K   \u001b[90m━━━━━━━━━━━━━━━━━━━━━━━━━━━━━━━━━━━━━━━━\u001b[0m \u001b[32m134.8/134.8 kB\u001b[0m \u001b[31m10.3 MB/s\u001b[0m eta \u001b[36m0:00:00\u001b[0m\n",
            "\u001b[?25hDownloading xxhash-3.5.0-cp310-cp310-manylinux_2_17_x86_64.manylinux2014_x86_64.whl (194 kB)\n",
            "\u001b[2K   \u001b[90m━━━━━━━━━━━━━━━━━━━━━━━━━━━━━━━━━━━━━━━━\u001b[0m \u001b[32m194.1/194.1 kB\u001b[0m \u001b[31m11.7 MB/s\u001b[0m eta \u001b[36m0:00:00\u001b[0m\n",
            "\u001b[?25hInstalling collected packages: xxhash, pyarrow, dill, multiprocess, datasets\n",
            "  Attempting uninstall: pyarrow\n",
            "    Found existing installation: pyarrow 14.0.2\n",
            "    Uninstalling pyarrow-14.0.2:\n",
            "      Successfully uninstalled pyarrow-14.0.2\n",
            "\u001b[31mERROR: pip's dependency resolver does not currently take into account all the packages that are installed. This behaviour is the source of the following dependency conflicts.\n",
            "cudf-cu12 24.4.1 requires pyarrow<15.0.0a0,>=14.0.1, but you have pyarrow 17.0.0 which is incompatible.\n",
            "ibis-framework 8.0.0 requires pyarrow<16,>=2, but you have pyarrow 17.0.0 which is incompatible.\u001b[0m\u001b[31m\n",
            "\u001b[0mSuccessfully installed datasets-2.21.0 dill-0.3.8 multiprocess-0.70.16 pyarrow-17.0.0 xxhash-3.5.0\n",
            "Requirement already satisfied: tokenizers in /usr/local/lib/python3.10/dist-packages (0.19.1)\n",
            "Requirement already satisfied: huggingface-hub<1.0,>=0.16.4 in /usr/local/lib/python3.10/dist-packages (from tokenizers) (0.23.5)\n",
            "Requirement already satisfied: filelock in /usr/local/lib/python3.10/dist-packages (from huggingface-hub<1.0,>=0.16.4->tokenizers) (3.15.4)\n",
            "Requirement already satisfied: fsspec>=2023.5.0 in /usr/local/lib/python3.10/dist-packages (from huggingface-hub<1.0,>=0.16.4->tokenizers) (2024.6.1)\n",
            "Requirement already satisfied: packaging>=20.9 in /usr/local/lib/python3.10/dist-packages (from huggingface-hub<1.0,>=0.16.4->tokenizers) (24.1)\n",
            "Requirement already satisfied: pyyaml>=5.1 in /usr/local/lib/python3.10/dist-packages (from huggingface-hub<1.0,>=0.16.4->tokenizers) (6.0.2)\n",
            "Requirement already satisfied: requests in /usr/local/lib/python3.10/dist-packages (from huggingface-hub<1.0,>=0.16.4->tokenizers) (2.32.3)\n",
            "Requirement already satisfied: tqdm>=4.42.1 in /usr/local/lib/python3.10/dist-packages (from huggingface-hub<1.0,>=0.16.4->tokenizers) (4.66.5)\n",
            "Requirement already satisfied: typing-extensions>=3.7.4.3 in /usr/local/lib/python3.10/dist-packages (from huggingface-hub<1.0,>=0.16.4->tokenizers) (4.12.2)\n",
            "Requirement already satisfied: charset-normalizer<4,>=2 in /usr/local/lib/python3.10/dist-packages (from requests->huggingface-hub<1.0,>=0.16.4->tokenizers) (3.3.2)\n",
            "Requirement already satisfied: idna<4,>=2.5 in /usr/local/lib/python3.10/dist-packages (from requests->huggingface-hub<1.0,>=0.16.4->tokenizers) (3.7)\n",
            "Requirement already satisfied: urllib3<3,>=1.21.1 in /usr/local/lib/python3.10/dist-packages (from requests->huggingface-hub<1.0,>=0.16.4->tokenizers) (2.0.7)\n",
            "Requirement already satisfied: certifi>=2017.4.17 in /usr/local/lib/python3.10/dist-packages (from requests->huggingface-hub<1.0,>=0.16.4->tokenizers) (2024.7.4)\n"
          ]
        }
      ]
    },
    {
      "cell_type": "code",
      "source": [
        "from datasets import load_dataset\n",
        "from tokenizers import Tokenizer\n",
        "from tokenizers.models import WordLevel\n",
        "from tokenizers.trainers import WordLevelTrainer\n",
        "from tokenizers.pre_tokenizers import Whitespace\n"
      ],
      "metadata": {
        "id": "c6uywhdt3kko"
      },
      "execution_count": null,
      "outputs": []
    },
    {
      "cell_type": "code",
      "source": [
        "from pathlib import Path"
      ],
      "metadata": {
        "id": "F4d6DHra4TKS"
      },
      "execution_count": null,
      "outputs": []
    },
    {
      "cell_type": "code",
      "source": [
        "def get_all_sentences(ds , lang):\n",
        "  for item in ds :\n",
        "    yield item['translation'][lang]\n"
      ],
      "metadata": {
        "id": "0kNkr8lk96mm"
      },
      "execution_count": null,
      "outputs": []
    },
    {
      "cell_type": "code",
      "source": [
        "def get_build_tokenizer(config , ds , lang ):\n",
        "  tokenizer_path = Path(config['tokenizer_file'].format(lang))\n",
        "  if not Path.exists(tokenizer_path):\n",
        "    tokenizer = Tokenizer(WordLevel(unk_token = \"[UNK]\"))\n",
        "    tokenizer.pre_tokenizer = Whitespace()\n",
        "    trainer = WordLevelTrainer(special_tokens = [\"[UNK]\" , \"[PAD]\" , \"[SOS]\" , \"[EOS]\"] , min_frequency = 2)\n",
        "    tokenizer.train_from_iterator(get_all_sentences(ds , lang) , trainer = trainer)\n",
        "    tokenizer.save(str(tokenizer_path))\n",
        "  else :\n",
        "    tokenizer = Tokenizer.from_file(str(tokenizer_path))\n",
        "  return tokenizer\n",
        "\n"
      ],
      "metadata": {
        "id": "ank60z8g4HKC"
      },
      "execution_count": null,
      "outputs": []
    },
    {
      "cell_type": "code",
      "source": [
        "from torch.utils.data import Dataset , DataLoader  , random_split"
      ],
      "metadata": {
        "id": "paeGRPoaDXsr"
      },
      "execution_count": null,
      "outputs": []
    },
    {
      "cell_type": "code",
      "source": [
        "def causal_mask(size):\n",
        "  mask  = torch.triu(torch.ones(1 , size , size ) , diagonal = 1).type(torch.int)\n",
        "  return mask == 0"
      ],
      "metadata": {
        "id": "xMzra0LjR1KA"
      },
      "execution_count": null,
      "outputs": []
    },
    {
      "cell_type": "code",
      "source": [
        "class BilingualDataset(Dataset):\n",
        "  def __init__(self , ds , tokenizer_src , tokenizer_tgt , src_lang , tgt_lang , seq_len) -> None :\n",
        "    super().__init__()\n",
        "    self.seq_len = seq_len\n",
        "    self.ds = ds\n",
        "    self.tokenizer_src = tokenizer_src\n",
        "    self.tokenizer_tgt = tokenizer_tgt\n",
        "    self.src_lang = src_lang\n",
        "    self.tgt_lang = tgt_lang\n",
        "    self.sos_token = torch.tensor([tokenizer_src.token_to_id('[SOS]') ],  dtype = torch.int64 )\n",
        "    self.eos_token = torch.tensor([tokenizer_src.token_to_id('[EOS]')] , dtype = torch.int64 )\n",
        "    self.pad_token = torch.tensor([tokenizer_src.token_to_id('[PAD]')] , dtype = torch.int64 )\n",
        "\n",
        "\n",
        "    self.seq_len = seq_len\n",
        "  def __len__(self):\n",
        "    return len(self.ds)\n",
        "  def __getitem__(self, index ):\n",
        "    src_target_pair = self.ds[index]\n",
        "    src_text = src_target_pair[self.src_lang]\n",
        "    tgt_text = src_target_pair[self.tgt_lang]\n",
        "\n",
        "    enc_input_tokens = self.src_tokenizer_src.encode(src_text).ids\n",
        "    dec_input_tokens = self.tokenizer_tgt.encode(tgt_text).ids\n",
        "\n",
        "    enc_num_padding_tokens = self.seq_len - len(enc_input_tokens) - 2\n",
        "    dec_num_padding_tokens = self.seq_len - len(dec_input_tokens) - 1\n",
        "    if enc_num_padding_tokens < 0 or dec_num_padding_tokens < 0 :\n",
        "      raise ValueError('Sentence id stooo long')\n",
        "    encoder_input = torch.cat([\n",
        "        self.sos_token  , self.tensor(enc_input_tokens , dtype = torch.int64) , self.eos_token ,\n",
        "        torch.tensor([self.pad_token] * enc_num_padding_tokens , dtype = torch.int64 ) ,\n",
        "    ])\n",
        "    decoder_input = torch.cat([self.sos_token , self.tensor( dec_input_tokens , dtype = torch.int64 ), torch.tensor([self.pad] * dec_num_padding_tokens   , dtype = torch.int64 )]  )\n",
        "\n",
        "    label = torch.cat([\n",
        "        torch.tensor(dec_input_tokens , dtype = torch.int64 ) ,\n",
        "        self.eos_token ,\n",
        "        torch.tensor([self.pad_token] * dec_num_padding_tokens , dtype = torch.int64 )\n",
        "    ])\n",
        "    assert encoder_input.size(0) == self.seq_len\n",
        "    assert decoder_input.size(0) == self.seq_len\n",
        "    return {\n",
        "        \"encoder_input\" : encoder_input ,  #seq_len\n",
        "        \"decoder_input\" : decoder_input , #seq_len\n",
        "        \"encoder_mask\" : (encoder_input != self.pad_token).unsqueeze(0).unsqueeze(0).int() #(1 , 1 , Seq len)  check how this works\n",
        "         ,\n",
        "        \"decoder_mask\" : (decoder_input != self.pad_token).unsqueeze(0).unsqueeze(0).int() & causal_mask(decoder_input.size(0))\n",
        "      #(1 , seq_len) ,, (1 , seq_len , seq_len)\n",
        "       ,\n",
        "        \"label\" :  label ,\n",
        "        \"src_text\" : src_text ,\n",
        "        \"tgt_text\" : tgt_text\n",
        "    }\n"
      ],
      "metadata": {
        "id": "ntJaM_1XEFYd"
      },
      "execution_count": null,
      "outputs": []
    },
    {
      "cell_type": "code",
      "source": [
        "def get_ds(config):\n",
        "  ds_raw = load_dataset('opus_books' , f'{config[\"lang_src\"]}-{config[\"lang_tgt\"]}' , split = 'train')\n",
        "  tokenizer_src = get_build_tokenizer(config , ds_raw , config['lang_src'])\n",
        "  tokenizer_tgt = get_build_tokenizer(config , ds_raw , config['lang_tgt'])\n",
        "\n",
        "  #keep 90% for training and 10% for for validation\n",
        "  train_ds_size = int(0.9 * len(ds_raw))\n",
        "  val_ds_size = len(ds_raw) - train_ds_size\n",
        "  train_ds_raw , val_ds_raw = random_split(ds_raw , [train_ds_size , val_ds_size])\n",
        "  train_ds = BilingualDataset(train_ds_raw , tokenizer_src , tokenizer_tgt , config['lang_src'] , config['lang_tgt'] , config['seq_len'])\n",
        "  val_ds = BilingualDataset(val_ds_raw , tokenizer_src , tokenizer_tgt , config['lang_src'] , config['lang_tgt'] , config['seq_len'])\n",
        "  max_len_src = 0\n",
        "  max_len_tgt = 0\n",
        "  for item in ds_raw :\n",
        "    src_ids = tokenizer_src.encode(item['translation'][config['lang_src']]).ids\n",
        "    tgt_ids = tokenizer_tgt.encode(item['translation'][config['lang_tgt']]).ids\n",
        "    max_len_src = max(len(src_ids) , max_len_src )\n",
        "    max_len_tgt = max(len(tgt_ids) , max_len_tgt)\n",
        "  print(f'Max length of source sentence : {max_len_src}')\n",
        "  print(f'Max length of target sentence : {max_len_tgt}')\n",
        "  train_dataloader = DataLoader(train_ds , batch_size = config['batch_size'] , shuffle = True )\n",
        "  val_dataloader = DataLoader(train_ds  , batch_size = config['batch_size'] , shuffle = True )\n",
        "  return train_dataloader  , val_dataloader , tokenizer_src , tokenizer_tgt\n",
        "\n"
      ],
      "metadata": {
        "id": "CYLWJema-iY0"
      },
      "execution_count": null,
      "outputs": []
    },
    {
      "cell_type": "code",
      "source": [
        "def get_model(config , vocab_src_len , vocab_tgt_len):\n",
        "  model = build_transformer(vocab_src_len , vocab_tgt_len , config['seq_len'] , config['seq_len'] , config['d_model'])\n",
        "  return model"
      ],
      "metadata": {
        "id": "0DiZJh4ITQDz"
      },
      "execution_count": null,
      "outputs": []
    },
    {
      "cell_type": "code",
      "source": [
        "from pathlib import Path"
      ],
      "metadata": {
        "id": "NdpQwGvltvwc"
      },
      "execution_count": null,
      "outputs": []
    },
    {
      "cell_type": "code",
      "source": [
        "def get_config() :\n",
        "  return {\n",
        "      \"batch_size\" : 8 ,\n",
        "      \"num_epochs\" : 20 ,\n",
        "      \"lr\" : 10**-4 ,\n",
        "      \"seq_len\" : 350 ,\n",
        "      \"d_model\" : 512 ,\n",
        "      \"lang_src\" : \"en\" ,\n",
        "      \"lang_tgt\" : \"it\" ,\n",
        "      \"model_folder\" : \"content/drive/MyDrive/weights\" ,\n",
        "      \"model_filename\" : \"tmodel_\" ,\n",
        "      \"preload\" : None ,\n",
        "      \"tokenizer_file\" : \"tokenizer_{0}.json\" ,\n",
        "      \"experiment_name\" : \"runs/model\" ,\n",
        "  }\n",
        "def get_weights_file_path(config , epoch : str) :\n",
        "  model_folder = config['model_folder']\n",
        "  model_basename = config['model_basename']\n",
        "  model_filename = f\"{model_basename}{epoch}.pt\"\n",
        "  return str(Path('.') / model_folder / model_filename)\n"
      ],
      "metadata": {
        "id": "HzQRjWKvYDvf"
      },
      "execution_count": null,
      "outputs": []
    },
    {
      "cell_type": "code",
      "source": [
        "from torch.utils.tensorboard import SummaryWriter\n",
        "from tqdm import tqdm\n",
        "import os"
      ],
      "metadata": {
        "id": "zIR4ZWrVvaU4"
      },
      "execution_count": null,
      "outputs": []
    },
    {
      "cell_type": "code",
      "source": [
        "def train_model(config):\n",
        "  device = torch.device(\"cuda\" if torch.cuda.is_available() else \"cpu\")\n",
        "  print(f\"Using device {device}\")\n",
        "  Path(config['model_folder']).mkdir(parents = True  , exist_ok = True)\n",
        "  train_loader , val_loader , tokenizer_src , tokenizer_tgt = get_ds(config)\n",
        "  model = get_model(config , tokenizer_src.get_vocab_size() , tokenizer_tgt.get_vocab_size()).to(device)\n",
        "  writer = SummaryWriter(config['experiment_name'])\n",
        "  optimizer = torch.optim.Adam(model.parameters() , lr = config['lr'] , eps = 1e-9)\n",
        "  initial_epoch = 0\n",
        "  global_step = 0\n",
        "  if config['preload'] :\n",
        "    model_filename = get_weights_file_path(config , config['preload'])\n",
        "    print(f\"Preloading model {model_filename}\")\n",
        "    state = torch.load(model_filename)\n",
        "    initial_epoch = state['epoch'] + 1\n",
        "    optimizer.load_state_dict(state['optimizer_state_dict'])\n",
        "    global_step = state['global_step']\n",
        "  loss_fn = nn.CrossEntropy(ignore_index = tokenizer_src.token_to_id('[PAD]') , label_smoothing = 0.1 ).to(device)\n",
        "  for epoch in range(initial_epoch , config['num_epochs']):\n",
        "    model.train()\n",
        "    batch_iterator = tqdm(train_loader , desc = f'preprocessing epoch {epoch}')\n",
        "    for batch in batch_iterator:\n",
        "      encoder_input = batch['encoder_input'].to(device) # (B , seq_len)\n",
        "      decoder_input = batch['decoder_input'].to(device) # (B , seq_len)\n",
        "      encoder_mask = batch['encoder_mask'].to(device) #(B , 1 , 1 , SEQ_LEN)\n",
        "      decoder_mask = batch['decoder_mask'].to(device) #(B , 1 , Seq_len , Seq_len)\n",
        "      encoder_output = model.encode(encoder_input , encoder_mask) #B . Seq_len , d_model\n",
        "      decoder_output = model.decode(encoder_output , encoder_mask , decoder_input , decoder_mask)\n",
        "      proj_output = model.project(decoder_output) # (B , seq_len , tgt_vocab_size )\n",
        "      label = batch['label'].to(device) #( B , seq_len)\n",
        "      #(B , Seq_Len , tgt_vocab_size) --> (B * Seq_len , tgt_vocab_size)\n",
        "      loss = loss_fn(proj_output.view(-1 , tokenizer_tgt.get_vocab_size()) , label.view(-1))\n",
        "      batch_iterator.set_postfix({\"Loss\" : f\"{loss.item() : 6.3f }\"})\n",
        "\n",
        "      #log the loss on tenserboard\n",
        "      writer.add_scalar('train loss' , loss.item() , global_step )\n",
        "      writer.flush()\n",
        "\n",
        "      #back\n",
        "      loss.backward()\n",
        "      optimizer.step()\n",
        "      optimizer.zero_grad()\n",
        "\n",
        "      global_step += 1\n",
        "\n",
        "      # save the model\n",
        "      model_filename = get_weights_file_path(config , f'{epoch}')\n",
        "      torch.save({\n",
        "          'epoch' : epoch ,\n",
        "          'model_state_dict' : model.state_dict() ,\n",
        "          'optimizer_state_dict' : optimizer.state_dict() ,\n",
        "          'global_step' : global_step ,\n",
        "\n",
        "      } , model_filename)\n"
      ],
      "metadata": {
        "id": "QPLmyvT5sX8h"
      },
      "execution_count": null,
      "outputs": []
    },
    {
      "cell_type": "code",
      "source": [
        "config = get_config()\n",
        "train_model(config)"
      ],
      "metadata": {
        "colab": {
          "base_uri": "https://localhost:8080/",
          "height": 623,
          "referenced_widgets": [
            "086537f7d05c48ea8d3f4a95a23cd9ac",
            "a0b5b2bdca774b9888ce6b57ea236c3a",
            "b5226ecc4eb9493fa86d84666373d214",
            "147b72b5355643689da28b41dec6e171",
            "1005a34466254f0a8426e40b91ad4513",
            "b295632b43294e7081ea5871d0fce01b",
            "07ea1436802343799ee98f7ec5c00cfe",
            "2f9728150db340cfb16705f8ce9d20ae",
            "befe7b6d7256401ca800f30d5f23d561",
            "af31b478a9274307affa339681dd1f4a",
            "446e6d1c8a7b4c7db89c53698194491c",
            "e279f0e026d74662853aceb5f020f5e5",
            "9b09ae8a604f48cf978a7bb870bdac6b",
            "2521fa3cc27846478ceaa3a9c6accc37",
            "24402767e34b4c0296be59c3369f0767",
            "aa7514e5f78441e6b9cbb79b35060cda",
            "a2f7300c8d9b468b88b8d43862c64fc2",
            "93ada603e11d461da78c247090a0b424",
            "3120329cab17404790d6e24fc3f49491",
            "e45271806071448e918ecd04e828712c",
            "3cd960bea28d4987b7112bd103452ac7",
            "7dec97d5940548ddb0cb9221e74af15d",
            "563ecb41c40942e7b01ff938c0d2faa6",
            "6e895af5c48e4158b54b5d77d50f0e07",
            "8f78554a81c44936a6c3cfc03062bc0d",
            "e2e87b650a8b45a684a7993ddf4008b5",
            "02771f596fd342d5a1e5a586f06b3fe7",
            "ef4a0cece77241e9b0ff9c89f64fceb3",
            "d767846163a54bc3a626ee14bbd86864",
            "a9b1a87a877748eebb81fc5653284ef6",
            "c5d5aecd4ba24c368c33b17e727681a8",
            "3282d1acf8e343f2930584363d413072",
            "3dc4b3add43b4fd8b6db38c14bdcc950"
          ]
        },
        "id": "J2Kqr8G56pDW",
        "outputId": "7ea005ef-6f1b-4ce6-817a-d3eec16773d4"
      },
      "execution_count": null,
      "outputs": [
        {
          "output_type": "stream",
          "name": "stdout",
          "text": [
            "Using device cpu\n"
          ]
        },
        {
          "output_type": "stream",
          "name": "stderr",
          "text": [
            "/usr/local/lib/python3.10/dist-packages/huggingface_hub/utils/_token.py:89: UserWarning: \n",
            "The secret `HF_TOKEN` does not exist in your Colab secrets.\n",
            "To authenticate with the Hugging Face Hub, create a token in your settings tab (https://huggingface.co/settings/tokens), set it as secret in your Google Colab and restart your session.\n",
            "You will be able to reuse this secret in all of your notebooks.\n",
            "Please note that authentication is recommended but still optional to access public models or datasets.\n",
            "  warnings.warn(\n"
          ]
        },
        {
          "output_type": "display_data",
          "data": {
            "text/plain": [
              "Downloading readme:   0%|          | 0.00/28.1k [00:00<?, ?B/s]"
            ],
            "application/vnd.jupyter.widget-view+json": {
              "version_major": 2,
              "version_minor": 0,
              "model_id": "086537f7d05c48ea8d3f4a95a23cd9ac"
            }
          },
          "metadata": {}
        },
        {
          "output_type": "display_data",
          "data": {
            "text/plain": [
              "Downloading data:   0%|          | 0.00/5.73M [00:00<?, ?B/s]"
            ],
            "application/vnd.jupyter.widget-view+json": {
              "version_major": 2,
              "version_minor": 0,
              "model_id": "e279f0e026d74662853aceb5f020f5e5"
            }
          },
          "metadata": {}
        },
        {
          "output_type": "display_data",
          "data": {
            "text/plain": [
              "Generating train split:   0%|          | 0/32332 [00:00<?, ? examples/s]"
            ],
            "application/vnd.jupyter.widget-view+json": {
              "version_major": 2,
              "version_minor": 0,
              "model_id": "563ecb41c40942e7b01ff938c0d2faa6"
            }
          },
          "metadata": {}
        },
        {
          "output_type": "stream",
          "name": "stdout",
          "text": [
            "Max length of source sentence : 309\n",
            "Max length of target sentence : 274\n"
          ]
        },
        {
          "output_type": "error",
          "ename": "TypeError",
          "evalue": "Tranformer.__init__() missing 1 required positional argument: 'projection'",
          "traceback": [
            "\u001b[0;31m---------------------------------------------------------------------------\u001b[0m",
            "\u001b[0;31mTypeError\u001b[0m                                 Traceback (most recent call last)",
            "\u001b[0;32m<ipython-input-31-709e4a70de3b>\u001b[0m in \u001b[0;36m<cell line: 2>\u001b[0;34m()\u001b[0m\n\u001b[1;32m      1\u001b[0m \u001b[0mconfig\u001b[0m \u001b[0;34m=\u001b[0m \u001b[0mget_config\u001b[0m\u001b[0;34m(\u001b[0m\u001b[0;34m)\u001b[0m\u001b[0;34m\u001b[0m\u001b[0;34m\u001b[0m\u001b[0m\n\u001b[0;32m----> 2\u001b[0;31m \u001b[0mtrain_model\u001b[0m\u001b[0;34m(\u001b[0m\u001b[0mconfig\u001b[0m\u001b[0;34m)\u001b[0m\u001b[0;34m\u001b[0m\u001b[0;34m\u001b[0m\u001b[0m\n\u001b[0m",
            "\u001b[0;32m<ipython-input-30-8f5b694de308>\u001b[0m in \u001b[0;36mtrain_model\u001b[0;34m(config)\u001b[0m\n\u001b[1;32m      4\u001b[0m   \u001b[0mPath\u001b[0m\u001b[0;34m(\u001b[0m\u001b[0mconfig\u001b[0m\u001b[0;34m[\u001b[0m\u001b[0;34m'model_folder'\u001b[0m\u001b[0;34m]\u001b[0m\u001b[0;34m)\u001b[0m\u001b[0;34m.\u001b[0m\u001b[0mmkdir\u001b[0m\u001b[0;34m(\u001b[0m\u001b[0mparents\u001b[0m \u001b[0;34m=\u001b[0m \u001b[0;32mTrue\u001b[0m  \u001b[0;34m,\u001b[0m \u001b[0mexist_ok\u001b[0m \u001b[0;34m=\u001b[0m \u001b[0;32mTrue\u001b[0m\u001b[0;34m)\u001b[0m\u001b[0;34m\u001b[0m\u001b[0;34m\u001b[0m\u001b[0m\n\u001b[1;32m      5\u001b[0m   \u001b[0mtrain_loader\u001b[0m \u001b[0;34m,\u001b[0m \u001b[0mval_loader\u001b[0m \u001b[0;34m,\u001b[0m \u001b[0mtokenizer_src\u001b[0m \u001b[0;34m,\u001b[0m \u001b[0mtokenizer_tgt\u001b[0m \u001b[0;34m=\u001b[0m \u001b[0mget_ds\u001b[0m\u001b[0;34m(\u001b[0m\u001b[0mconfig\u001b[0m\u001b[0;34m)\u001b[0m\u001b[0;34m\u001b[0m\u001b[0;34m\u001b[0m\u001b[0m\n\u001b[0;32m----> 6\u001b[0;31m   \u001b[0mmodel\u001b[0m \u001b[0;34m=\u001b[0m \u001b[0mget_model\u001b[0m\u001b[0;34m(\u001b[0m\u001b[0mconfig\u001b[0m \u001b[0;34m,\u001b[0m \u001b[0mtokenizer_src\u001b[0m\u001b[0;34m.\u001b[0m\u001b[0mget_vocab_size\u001b[0m\u001b[0;34m(\u001b[0m\u001b[0;34m)\u001b[0m \u001b[0;34m,\u001b[0m \u001b[0mtokenizer_tgt\u001b[0m\u001b[0;34m.\u001b[0m\u001b[0mget_vocab_size\u001b[0m\u001b[0;34m(\u001b[0m\u001b[0;34m)\u001b[0m\u001b[0;34m)\u001b[0m\u001b[0;34m.\u001b[0m\u001b[0mto\u001b[0m\u001b[0;34m(\u001b[0m\u001b[0mdevice\u001b[0m\u001b[0;34m)\u001b[0m\u001b[0;34m\u001b[0m\u001b[0;34m\u001b[0m\u001b[0m\n\u001b[0m\u001b[1;32m      7\u001b[0m   \u001b[0mwriter\u001b[0m \u001b[0;34m=\u001b[0m \u001b[0mSummaryWriter\u001b[0m\u001b[0;34m(\u001b[0m\u001b[0mconfig\u001b[0m\u001b[0;34m[\u001b[0m\u001b[0;34m'experiment_name'\u001b[0m\u001b[0;34m]\u001b[0m\u001b[0;34m)\u001b[0m\u001b[0;34m\u001b[0m\u001b[0;34m\u001b[0m\u001b[0m\n\u001b[1;32m      8\u001b[0m   \u001b[0moptimizer\u001b[0m \u001b[0;34m=\u001b[0m \u001b[0mtorch\u001b[0m\u001b[0;34m.\u001b[0m\u001b[0moptim\u001b[0m\u001b[0;34m.\u001b[0m\u001b[0mAdam\u001b[0m\u001b[0;34m(\u001b[0m\u001b[0mmodel\u001b[0m\u001b[0;34m.\u001b[0m\u001b[0mparameters\u001b[0m\u001b[0;34m(\u001b[0m\u001b[0;34m)\u001b[0m \u001b[0;34m,\u001b[0m \u001b[0mlr\u001b[0m \u001b[0;34m=\u001b[0m \u001b[0mconfig\u001b[0m\u001b[0;34m[\u001b[0m\u001b[0;34m'lr'\u001b[0m\u001b[0;34m]\u001b[0m \u001b[0;34m,\u001b[0m \u001b[0meps\u001b[0m \u001b[0;34m=\u001b[0m \u001b[0;36m1e-9\u001b[0m\u001b[0;34m)\u001b[0m\u001b[0;34m\u001b[0m\u001b[0;34m\u001b[0m\u001b[0m\n",
            "\u001b[0;32m<ipython-input-26-52135e56aee7>\u001b[0m in \u001b[0;36mget_model\u001b[0;34m(config, vocab_src_len, vocab_tgt_len)\u001b[0m\n\u001b[1;32m      1\u001b[0m \u001b[0;32mdef\u001b[0m \u001b[0mget_model\u001b[0m\u001b[0;34m(\u001b[0m\u001b[0mconfig\u001b[0m \u001b[0;34m,\u001b[0m \u001b[0mvocab_src_len\u001b[0m \u001b[0;34m,\u001b[0m \u001b[0mvocab_tgt_len\u001b[0m\u001b[0;34m)\u001b[0m\u001b[0;34m:\u001b[0m\u001b[0;34m\u001b[0m\u001b[0;34m\u001b[0m\u001b[0m\n\u001b[0;32m----> 2\u001b[0;31m   \u001b[0mmodel\u001b[0m \u001b[0;34m=\u001b[0m \u001b[0mbuild_transformer\u001b[0m\u001b[0;34m(\u001b[0m\u001b[0mvocab_src_len\u001b[0m \u001b[0;34m,\u001b[0m \u001b[0mvocab_tgt_len\u001b[0m \u001b[0;34m,\u001b[0m \u001b[0mconfig\u001b[0m\u001b[0;34m[\u001b[0m\u001b[0;34m'seq_len'\u001b[0m\u001b[0;34m]\u001b[0m \u001b[0;34m,\u001b[0m \u001b[0mconfig\u001b[0m\u001b[0;34m[\u001b[0m\u001b[0;34m'seq_len'\u001b[0m\u001b[0;34m]\u001b[0m \u001b[0;34m,\u001b[0m \u001b[0mconfig\u001b[0m\u001b[0;34m[\u001b[0m\u001b[0;34m'd_model'\u001b[0m\u001b[0;34m]\u001b[0m\u001b[0;34m)\u001b[0m\u001b[0;34m\u001b[0m\u001b[0;34m\u001b[0m\u001b[0m\n\u001b[0m\u001b[1;32m      3\u001b[0m   \u001b[0;32mreturn\u001b[0m \u001b[0mmodel\u001b[0m\u001b[0;34m\u001b[0m\u001b[0;34m\u001b[0m\u001b[0m\n",
            "\u001b[0;32m<ipython-input-16-7aecd8e6da9b>\u001b[0m in \u001b[0;36mbuild_transformer\u001b[0;34m(src_vocab_size, tgt_vocab_size, src_seq_len, tgt_seq_len, d_model, N, h, dropout, d_ff)\u001b[0m\n\u001b[1;32m     30\u001b[0m \u001b[0;34m\u001b[0m\u001b[0m\n\u001b[1;32m     31\u001b[0m   \u001b[0;31m#create the transformer\u001b[0m\u001b[0;34m\u001b[0m\u001b[0;34m\u001b[0m\u001b[0m\n\u001b[0;32m---> 32\u001b[0;31m   \u001b[0mtransformer\u001b[0m \u001b[0;34m=\u001b[0m \u001b[0mTranformer\u001b[0m\u001b[0;34m(\u001b[0m\u001b[0mencoder\u001b[0m \u001b[0;34m,\u001b[0m \u001b[0mdecoder\u001b[0m \u001b[0;34m,\u001b[0m \u001b[0msrc_embed\u001b[0m \u001b[0;34m,\u001b[0m \u001b[0mtgt_embed\u001b[0m \u001b[0;34m,\u001b[0m \u001b[0msrc_pos\u001b[0m \u001b[0;34m,\u001b[0m \u001b[0mtgt_pos\u001b[0m \u001b[0;34m,\u001b[0m \u001b[0mprojection\u001b[0m\u001b[0;34m)\u001b[0m\u001b[0;34m\u001b[0m\u001b[0;34m\u001b[0m\u001b[0m\n\u001b[0m\u001b[1;32m     33\u001b[0m \u001b[0;34m\u001b[0m\u001b[0m\n\u001b[1;32m     34\u001b[0m   \u001b[0;31m#Initialize the parameters\u001b[0m\u001b[0;34m\u001b[0m\u001b[0;34m\u001b[0m\u001b[0m\n",
            "\u001b[0;31mTypeError\u001b[0m: Tranformer.__init__() missing 1 required positional argument: 'projection'"
          ]
        }
      ]
    },
    {
      "cell_type": "code",
      "source": [],
      "metadata": {
        "id": "SZS8wSy67cgG"
      },
      "execution_count": null,
      "outputs": []
    }
  ],
  "metadata": {
    "colab": {
      "provenance": []
    },
    "kernelspec": {
      "display_name": "Python 3",
      "name": "python3"
    },
    "language_info": {
      "name": "python"
    },
    "widgets": {
      "application/vnd.jupyter.widget-state+json": {
        "086537f7d05c48ea8d3f4a95a23cd9ac": {
          "model_module": "@jupyter-widgets/controls",
          "model_name": "HBoxModel",
          "model_module_version": "1.5.0",
          "state": {
            "_dom_classes": [],
            "_model_module": "@jupyter-widgets/controls",
            "_model_module_version": "1.5.0",
            "_model_name": "HBoxModel",
            "_view_count": null,
            "_view_module": "@jupyter-widgets/controls",
            "_view_module_version": "1.5.0",
            "_view_name": "HBoxView",
            "box_style": "",
            "children": [
              "IPY_MODEL_a0b5b2bdca774b9888ce6b57ea236c3a",
              "IPY_MODEL_b5226ecc4eb9493fa86d84666373d214",
              "IPY_MODEL_147b72b5355643689da28b41dec6e171"
            ],
            "layout": "IPY_MODEL_1005a34466254f0a8426e40b91ad4513"
          }
        },
        "a0b5b2bdca774b9888ce6b57ea236c3a": {
          "model_module": "@jupyter-widgets/controls",
          "model_name": "HTMLModel",
          "model_module_version": "1.5.0",
          "state": {
            "_dom_classes": [],
            "_model_module": "@jupyter-widgets/controls",
            "_model_module_version": "1.5.0",
            "_model_name": "HTMLModel",
            "_view_count": null,
            "_view_module": "@jupyter-widgets/controls",
            "_view_module_version": "1.5.0",
            "_view_name": "HTMLView",
            "description": "",
            "description_tooltip": null,
            "layout": "IPY_MODEL_b295632b43294e7081ea5871d0fce01b",
            "placeholder": "​",
            "style": "IPY_MODEL_07ea1436802343799ee98f7ec5c00cfe",
            "value": "Downloading readme: 100%"
          }
        },
        "b5226ecc4eb9493fa86d84666373d214": {
          "model_module": "@jupyter-widgets/controls",
          "model_name": "FloatProgressModel",
          "model_module_version": "1.5.0",
          "state": {
            "_dom_classes": [],
            "_model_module": "@jupyter-widgets/controls",
            "_model_module_version": "1.5.0",
            "_model_name": "FloatProgressModel",
            "_view_count": null,
            "_view_module": "@jupyter-widgets/controls",
            "_view_module_version": "1.5.0",
            "_view_name": "ProgressView",
            "bar_style": "success",
            "description": "",
            "description_tooltip": null,
            "layout": "IPY_MODEL_2f9728150db340cfb16705f8ce9d20ae",
            "max": 28064,
            "min": 0,
            "orientation": "horizontal",
            "style": "IPY_MODEL_befe7b6d7256401ca800f30d5f23d561",
            "value": 28064
          }
        },
        "147b72b5355643689da28b41dec6e171": {
          "model_module": "@jupyter-widgets/controls",
          "model_name": "HTMLModel",
          "model_module_version": "1.5.0",
          "state": {
            "_dom_classes": [],
            "_model_module": "@jupyter-widgets/controls",
            "_model_module_version": "1.5.0",
            "_model_name": "HTMLModel",
            "_view_count": null,
            "_view_module": "@jupyter-widgets/controls",
            "_view_module_version": "1.5.0",
            "_view_name": "HTMLView",
            "description": "",
            "description_tooltip": null,
            "layout": "IPY_MODEL_af31b478a9274307affa339681dd1f4a",
            "placeholder": "​",
            "style": "IPY_MODEL_446e6d1c8a7b4c7db89c53698194491c",
            "value": " 28.1k/28.1k [00:00&lt;00:00, 162kB/s]"
          }
        },
        "1005a34466254f0a8426e40b91ad4513": {
          "model_module": "@jupyter-widgets/base",
          "model_name": "LayoutModel",
          "model_module_version": "1.2.0",
          "state": {
            "_model_module": "@jupyter-widgets/base",
            "_model_module_version": "1.2.0",
            "_model_name": "LayoutModel",
            "_view_count": null,
            "_view_module": "@jupyter-widgets/base",
            "_view_module_version": "1.2.0",
            "_view_name": "LayoutView",
            "align_content": null,
            "align_items": null,
            "align_self": null,
            "border": null,
            "bottom": null,
            "display": null,
            "flex": null,
            "flex_flow": null,
            "grid_area": null,
            "grid_auto_columns": null,
            "grid_auto_flow": null,
            "grid_auto_rows": null,
            "grid_column": null,
            "grid_gap": null,
            "grid_row": null,
            "grid_template_areas": null,
            "grid_template_columns": null,
            "grid_template_rows": null,
            "height": null,
            "justify_content": null,
            "justify_items": null,
            "left": null,
            "margin": null,
            "max_height": null,
            "max_width": null,
            "min_height": null,
            "min_width": null,
            "object_fit": null,
            "object_position": null,
            "order": null,
            "overflow": null,
            "overflow_x": null,
            "overflow_y": null,
            "padding": null,
            "right": null,
            "top": null,
            "visibility": null,
            "width": null
          }
        },
        "b295632b43294e7081ea5871d0fce01b": {
          "model_module": "@jupyter-widgets/base",
          "model_name": "LayoutModel",
          "model_module_version": "1.2.0",
          "state": {
            "_model_module": "@jupyter-widgets/base",
            "_model_module_version": "1.2.0",
            "_model_name": "LayoutModel",
            "_view_count": null,
            "_view_module": "@jupyter-widgets/base",
            "_view_module_version": "1.2.0",
            "_view_name": "LayoutView",
            "align_content": null,
            "align_items": null,
            "align_self": null,
            "border": null,
            "bottom": null,
            "display": null,
            "flex": null,
            "flex_flow": null,
            "grid_area": null,
            "grid_auto_columns": null,
            "grid_auto_flow": null,
            "grid_auto_rows": null,
            "grid_column": null,
            "grid_gap": null,
            "grid_row": null,
            "grid_template_areas": null,
            "grid_template_columns": null,
            "grid_template_rows": null,
            "height": null,
            "justify_content": null,
            "justify_items": null,
            "left": null,
            "margin": null,
            "max_height": null,
            "max_width": null,
            "min_height": null,
            "min_width": null,
            "object_fit": null,
            "object_position": null,
            "order": null,
            "overflow": null,
            "overflow_x": null,
            "overflow_y": null,
            "padding": null,
            "right": null,
            "top": null,
            "visibility": null,
            "width": null
          }
        },
        "07ea1436802343799ee98f7ec5c00cfe": {
          "model_module": "@jupyter-widgets/controls",
          "model_name": "DescriptionStyleModel",
          "model_module_version": "1.5.0",
          "state": {
            "_model_module": "@jupyter-widgets/controls",
            "_model_module_version": "1.5.0",
            "_model_name": "DescriptionStyleModel",
            "_view_count": null,
            "_view_module": "@jupyter-widgets/base",
            "_view_module_version": "1.2.0",
            "_view_name": "StyleView",
            "description_width": ""
          }
        },
        "2f9728150db340cfb16705f8ce9d20ae": {
          "model_module": "@jupyter-widgets/base",
          "model_name": "LayoutModel",
          "model_module_version": "1.2.0",
          "state": {
            "_model_module": "@jupyter-widgets/base",
            "_model_module_version": "1.2.0",
            "_model_name": "LayoutModel",
            "_view_count": null,
            "_view_module": "@jupyter-widgets/base",
            "_view_module_version": "1.2.0",
            "_view_name": "LayoutView",
            "align_content": null,
            "align_items": null,
            "align_self": null,
            "border": null,
            "bottom": null,
            "display": null,
            "flex": null,
            "flex_flow": null,
            "grid_area": null,
            "grid_auto_columns": null,
            "grid_auto_flow": null,
            "grid_auto_rows": null,
            "grid_column": null,
            "grid_gap": null,
            "grid_row": null,
            "grid_template_areas": null,
            "grid_template_columns": null,
            "grid_template_rows": null,
            "height": null,
            "justify_content": null,
            "justify_items": null,
            "left": null,
            "margin": null,
            "max_height": null,
            "max_width": null,
            "min_height": null,
            "min_width": null,
            "object_fit": null,
            "object_position": null,
            "order": null,
            "overflow": null,
            "overflow_x": null,
            "overflow_y": null,
            "padding": null,
            "right": null,
            "top": null,
            "visibility": null,
            "width": null
          }
        },
        "befe7b6d7256401ca800f30d5f23d561": {
          "model_module": "@jupyter-widgets/controls",
          "model_name": "ProgressStyleModel",
          "model_module_version": "1.5.0",
          "state": {
            "_model_module": "@jupyter-widgets/controls",
            "_model_module_version": "1.5.0",
            "_model_name": "ProgressStyleModel",
            "_view_count": null,
            "_view_module": "@jupyter-widgets/base",
            "_view_module_version": "1.2.0",
            "_view_name": "StyleView",
            "bar_color": null,
            "description_width": ""
          }
        },
        "af31b478a9274307affa339681dd1f4a": {
          "model_module": "@jupyter-widgets/base",
          "model_name": "LayoutModel",
          "model_module_version": "1.2.0",
          "state": {
            "_model_module": "@jupyter-widgets/base",
            "_model_module_version": "1.2.0",
            "_model_name": "LayoutModel",
            "_view_count": null,
            "_view_module": "@jupyter-widgets/base",
            "_view_module_version": "1.2.0",
            "_view_name": "LayoutView",
            "align_content": null,
            "align_items": null,
            "align_self": null,
            "border": null,
            "bottom": null,
            "display": null,
            "flex": null,
            "flex_flow": null,
            "grid_area": null,
            "grid_auto_columns": null,
            "grid_auto_flow": null,
            "grid_auto_rows": null,
            "grid_column": null,
            "grid_gap": null,
            "grid_row": null,
            "grid_template_areas": null,
            "grid_template_columns": null,
            "grid_template_rows": null,
            "height": null,
            "justify_content": null,
            "justify_items": null,
            "left": null,
            "margin": null,
            "max_height": null,
            "max_width": null,
            "min_height": null,
            "min_width": null,
            "object_fit": null,
            "object_position": null,
            "order": null,
            "overflow": null,
            "overflow_x": null,
            "overflow_y": null,
            "padding": null,
            "right": null,
            "top": null,
            "visibility": null,
            "width": null
          }
        },
        "446e6d1c8a7b4c7db89c53698194491c": {
          "model_module": "@jupyter-widgets/controls",
          "model_name": "DescriptionStyleModel",
          "model_module_version": "1.5.0",
          "state": {
            "_model_module": "@jupyter-widgets/controls",
            "_model_module_version": "1.5.0",
            "_model_name": "DescriptionStyleModel",
            "_view_count": null,
            "_view_module": "@jupyter-widgets/base",
            "_view_module_version": "1.2.0",
            "_view_name": "StyleView",
            "description_width": ""
          }
        },
        "e279f0e026d74662853aceb5f020f5e5": {
          "model_module": "@jupyter-widgets/controls",
          "model_name": "HBoxModel",
          "model_module_version": "1.5.0",
          "state": {
            "_dom_classes": [],
            "_model_module": "@jupyter-widgets/controls",
            "_model_module_version": "1.5.0",
            "_model_name": "HBoxModel",
            "_view_count": null,
            "_view_module": "@jupyter-widgets/controls",
            "_view_module_version": "1.5.0",
            "_view_name": "HBoxView",
            "box_style": "",
            "children": [
              "IPY_MODEL_9b09ae8a604f48cf978a7bb870bdac6b",
              "IPY_MODEL_2521fa3cc27846478ceaa3a9c6accc37",
              "IPY_MODEL_24402767e34b4c0296be59c3369f0767"
            ],
            "layout": "IPY_MODEL_aa7514e5f78441e6b9cbb79b35060cda"
          }
        },
        "9b09ae8a604f48cf978a7bb870bdac6b": {
          "model_module": "@jupyter-widgets/controls",
          "model_name": "HTMLModel",
          "model_module_version": "1.5.0",
          "state": {
            "_dom_classes": [],
            "_model_module": "@jupyter-widgets/controls",
            "_model_module_version": "1.5.0",
            "_model_name": "HTMLModel",
            "_view_count": null,
            "_view_module": "@jupyter-widgets/controls",
            "_view_module_version": "1.5.0",
            "_view_name": "HTMLView",
            "description": "",
            "description_tooltip": null,
            "layout": "IPY_MODEL_a2f7300c8d9b468b88b8d43862c64fc2",
            "placeholder": "​",
            "style": "IPY_MODEL_93ada603e11d461da78c247090a0b424",
            "value": "Downloading data: 100%"
          }
        },
        "2521fa3cc27846478ceaa3a9c6accc37": {
          "model_module": "@jupyter-widgets/controls",
          "model_name": "FloatProgressModel",
          "model_module_version": "1.5.0",
          "state": {
            "_dom_classes": [],
            "_model_module": "@jupyter-widgets/controls",
            "_model_module_version": "1.5.0",
            "_model_name": "FloatProgressModel",
            "_view_count": null,
            "_view_module": "@jupyter-widgets/controls",
            "_view_module_version": "1.5.0",
            "_view_name": "ProgressView",
            "bar_style": "success",
            "description": "",
            "description_tooltip": null,
            "layout": "IPY_MODEL_3120329cab17404790d6e24fc3f49491",
            "max": 5726189,
            "min": 0,
            "orientation": "horizontal",
            "style": "IPY_MODEL_e45271806071448e918ecd04e828712c",
            "value": 5726189
          }
        },
        "24402767e34b4c0296be59c3369f0767": {
          "model_module": "@jupyter-widgets/controls",
          "model_name": "HTMLModel",
          "model_module_version": "1.5.0",
          "state": {
            "_dom_classes": [],
            "_model_module": "@jupyter-widgets/controls",
            "_model_module_version": "1.5.0",
            "_model_name": "HTMLModel",
            "_view_count": null,
            "_view_module": "@jupyter-widgets/controls",
            "_view_module_version": "1.5.0",
            "_view_name": "HTMLView",
            "description": "",
            "description_tooltip": null,
            "layout": "IPY_MODEL_3cd960bea28d4987b7112bd103452ac7",
            "placeholder": "​",
            "style": "IPY_MODEL_7dec97d5940548ddb0cb9221e74af15d",
            "value": " 5.73M/5.73M [00:00&lt;00:00, 11.4MB/s]"
          }
        },
        "aa7514e5f78441e6b9cbb79b35060cda": {
          "model_module": "@jupyter-widgets/base",
          "model_name": "LayoutModel",
          "model_module_version": "1.2.0",
          "state": {
            "_model_module": "@jupyter-widgets/base",
            "_model_module_version": "1.2.0",
            "_model_name": "LayoutModel",
            "_view_count": null,
            "_view_module": "@jupyter-widgets/base",
            "_view_module_version": "1.2.0",
            "_view_name": "LayoutView",
            "align_content": null,
            "align_items": null,
            "align_self": null,
            "border": null,
            "bottom": null,
            "display": null,
            "flex": null,
            "flex_flow": null,
            "grid_area": null,
            "grid_auto_columns": null,
            "grid_auto_flow": null,
            "grid_auto_rows": null,
            "grid_column": null,
            "grid_gap": null,
            "grid_row": null,
            "grid_template_areas": null,
            "grid_template_columns": null,
            "grid_template_rows": null,
            "height": null,
            "justify_content": null,
            "justify_items": null,
            "left": null,
            "margin": null,
            "max_height": null,
            "max_width": null,
            "min_height": null,
            "min_width": null,
            "object_fit": null,
            "object_position": null,
            "order": null,
            "overflow": null,
            "overflow_x": null,
            "overflow_y": null,
            "padding": null,
            "right": null,
            "top": null,
            "visibility": null,
            "width": null
          }
        },
        "a2f7300c8d9b468b88b8d43862c64fc2": {
          "model_module": "@jupyter-widgets/base",
          "model_name": "LayoutModel",
          "model_module_version": "1.2.0",
          "state": {
            "_model_module": "@jupyter-widgets/base",
            "_model_module_version": "1.2.0",
            "_model_name": "LayoutModel",
            "_view_count": null,
            "_view_module": "@jupyter-widgets/base",
            "_view_module_version": "1.2.0",
            "_view_name": "LayoutView",
            "align_content": null,
            "align_items": null,
            "align_self": null,
            "border": null,
            "bottom": null,
            "display": null,
            "flex": null,
            "flex_flow": null,
            "grid_area": null,
            "grid_auto_columns": null,
            "grid_auto_flow": null,
            "grid_auto_rows": null,
            "grid_column": null,
            "grid_gap": null,
            "grid_row": null,
            "grid_template_areas": null,
            "grid_template_columns": null,
            "grid_template_rows": null,
            "height": null,
            "justify_content": null,
            "justify_items": null,
            "left": null,
            "margin": null,
            "max_height": null,
            "max_width": null,
            "min_height": null,
            "min_width": null,
            "object_fit": null,
            "object_position": null,
            "order": null,
            "overflow": null,
            "overflow_x": null,
            "overflow_y": null,
            "padding": null,
            "right": null,
            "top": null,
            "visibility": null,
            "width": null
          }
        },
        "93ada603e11d461da78c247090a0b424": {
          "model_module": "@jupyter-widgets/controls",
          "model_name": "DescriptionStyleModel",
          "model_module_version": "1.5.0",
          "state": {
            "_model_module": "@jupyter-widgets/controls",
            "_model_module_version": "1.5.0",
            "_model_name": "DescriptionStyleModel",
            "_view_count": null,
            "_view_module": "@jupyter-widgets/base",
            "_view_module_version": "1.2.0",
            "_view_name": "StyleView",
            "description_width": ""
          }
        },
        "3120329cab17404790d6e24fc3f49491": {
          "model_module": "@jupyter-widgets/base",
          "model_name": "LayoutModel",
          "model_module_version": "1.2.0",
          "state": {
            "_model_module": "@jupyter-widgets/base",
            "_model_module_version": "1.2.0",
            "_model_name": "LayoutModel",
            "_view_count": null,
            "_view_module": "@jupyter-widgets/base",
            "_view_module_version": "1.2.0",
            "_view_name": "LayoutView",
            "align_content": null,
            "align_items": null,
            "align_self": null,
            "border": null,
            "bottom": null,
            "display": null,
            "flex": null,
            "flex_flow": null,
            "grid_area": null,
            "grid_auto_columns": null,
            "grid_auto_flow": null,
            "grid_auto_rows": null,
            "grid_column": null,
            "grid_gap": null,
            "grid_row": null,
            "grid_template_areas": null,
            "grid_template_columns": null,
            "grid_template_rows": null,
            "height": null,
            "justify_content": null,
            "justify_items": null,
            "left": null,
            "margin": null,
            "max_height": null,
            "max_width": null,
            "min_height": null,
            "min_width": null,
            "object_fit": null,
            "object_position": null,
            "order": null,
            "overflow": null,
            "overflow_x": null,
            "overflow_y": null,
            "padding": null,
            "right": null,
            "top": null,
            "visibility": null,
            "width": null
          }
        },
        "e45271806071448e918ecd04e828712c": {
          "model_module": "@jupyter-widgets/controls",
          "model_name": "ProgressStyleModel",
          "model_module_version": "1.5.0",
          "state": {
            "_model_module": "@jupyter-widgets/controls",
            "_model_module_version": "1.5.0",
            "_model_name": "ProgressStyleModel",
            "_view_count": null,
            "_view_module": "@jupyter-widgets/base",
            "_view_module_version": "1.2.0",
            "_view_name": "StyleView",
            "bar_color": null,
            "description_width": ""
          }
        },
        "3cd960bea28d4987b7112bd103452ac7": {
          "model_module": "@jupyter-widgets/base",
          "model_name": "LayoutModel",
          "model_module_version": "1.2.0",
          "state": {
            "_model_module": "@jupyter-widgets/base",
            "_model_module_version": "1.2.0",
            "_model_name": "LayoutModel",
            "_view_count": null,
            "_view_module": "@jupyter-widgets/base",
            "_view_module_version": "1.2.0",
            "_view_name": "LayoutView",
            "align_content": null,
            "align_items": null,
            "align_self": null,
            "border": null,
            "bottom": null,
            "display": null,
            "flex": null,
            "flex_flow": null,
            "grid_area": null,
            "grid_auto_columns": null,
            "grid_auto_flow": null,
            "grid_auto_rows": null,
            "grid_column": null,
            "grid_gap": null,
            "grid_row": null,
            "grid_template_areas": null,
            "grid_template_columns": null,
            "grid_template_rows": null,
            "height": null,
            "justify_content": null,
            "justify_items": null,
            "left": null,
            "margin": null,
            "max_height": null,
            "max_width": null,
            "min_height": null,
            "min_width": null,
            "object_fit": null,
            "object_position": null,
            "order": null,
            "overflow": null,
            "overflow_x": null,
            "overflow_y": null,
            "padding": null,
            "right": null,
            "top": null,
            "visibility": null,
            "width": null
          }
        },
        "7dec97d5940548ddb0cb9221e74af15d": {
          "model_module": "@jupyter-widgets/controls",
          "model_name": "DescriptionStyleModel",
          "model_module_version": "1.5.0",
          "state": {
            "_model_module": "@jupyter-widgets/controls",
            "_model_module_version": "1.5.0",
            "_model_name": "DescriptionStyleModel",
            "_view_count": null,
            "_view_module": "@jupyter-widgets/base",
            "_view_module_version": "1.2.0",
            "_view_name": "StyleView",
            "description_width": ""
          }
        },
        "563ecb41c40942e7b01ff938c0d2faa6": {
          "model_module": "@jupyter-widgets/controls",
          "model_name": "HBoxModel",
          "model_module_version": "1.5.0",
          "state": {
            "_dom_classes": [],
            "_model_module": "@jupyter-widgets/controls",
            "_model_module_version": "1.5.0",
            "_model_name": "HBoxModel",
            "_view_count": null,
            "_view_module": "@jupyter-widgets/controls",
            "_view_module_version": "1.5.0",
            "_view_name": "HBoxView",
            "box_style": "",
            "children": [
              "IPY_MODEL_6e895af5c48e4158b54b5d77d50f0e07",
              "IPY_MODEL_8f78554a81c44936a6c3cfc03062bc0d",
              "IPY_MODEL_e2e87b650a8b45a684a7993ddf4008b5"
            ],
            "layout": "IPY_MODEL_02771f596fd342d5a1e5a586f06b3fe7"
          }
        },
        "6e895af5c48e4158b54b5d77d50f0e07": {
          "model_module": "@jupyter-widgets/controls",
          "model_name": "HTMLModel",
          "model_module_version": "1.5.0",
          "state": {
            "_dom_classes": [],
            "_model_module": "@jupyter-widgets/controls",
            "_model_module_version": "1.5.0",
            "_model_name": "HTMLModel",
            "_view_count": null,
            "_view_module": "@jupyter-widgets/controls",
            "_view_module_version": "1.5.0",
            "_view_name": "HTMLView",
            "description": "",
            "description_tooltip": null,
            "layout": "IPY_MODEL_ef4a0cece77241e9b0ff9c89f64fceb3",
            "placeholder": "​",
            "style": "IPY_MODEL_d767846163a54bc3a626ee14bbd86864",
            "value": "Generating train split: 100%"
          }
        },
        "8f78554a81c44936a6c3cfc03062bc0d": {
          "model_module": "@jupyter-widgets/controls",
          "model_name": "FloatProgressModel",
          "model_module_version": "1.5.0",
          "state": {
            "_dom_classes": [],
            "_model_module": "@jupyter-widgets/controls",
            "_model_module_version": "1.5.0",
            "_model_name": "FloatProgressModel",
            "_view_count": null,
            "_view_module": "@jupyter-widgets/controls",
            "_view_module_version": "1.5.0",
            "_view_name": "ProgressView",
            "bar_style": "success",
            "description": "",
            "description_tooltip": null,
            "layout": "IPY_MODEL_a9b1a87a877748eebb81fc5653284ef6",
            "max": 32332,
            "min": 0,
            "orientation": "horizontal",
            "style": "IPY_MODEL_c5d5aecd4ba24c368c33b17e727681a8",
            "value": 32332
          }
        },
        "e2e87b650a8b45a684a7993ddf4008b5": {
          "model_module": "@jupyter-widgets/controls",
          "model_name": "HTMLModel",
          "model_module_version": "1.5.0",
          "state": {
            "_dom_classes": [],
            "_model_module": "@jupyter-widgets/controls",
            "_model_module_version": "1.5.0",
            "_model_name": "HTMLModel",
            "_view_count": null,
            "_view_module": "@jupyter-widgets/controls",
            "_view_module_version": "1.5.0",
            "_view_name": "HTMLView",
            "description": "",
            "description_tooltip": null,
            "layout": "IPY_MODEL_3282d1acf8e343f2930584363d413072",
            "placeholder": "​",
            "style": "IPY_MODEL_3dc4b3add43b4fd8b6db38c14bdcc950",
            "value": " 32332/32332 [00:00&lt;00:00, 181004.53 examples/s]"
          }
        },
        "02771f596fd342d5a1e5a586f06b3fe7": {
          "model_module": "@jupyter-widgets/base",
          "model_name": "LayoutModel",
          "model_module_version": "1.2.0",
          "state": {
            "_model_module": "@jupyter-widgets/base",
            "_model_module_version": "1.2.0",
            "_model_name": "LayoutModel",
            "_view_count": null,
            "_view_module": "@jupyter-widgets/base",
            "_view_module_version": "1.2.0",
            "_view_name": "LayoutView",
            "align_content": null,
            "align_items": null,
            "align_self": null,
            "border": null,
            "bottom": null,
            "display": null,
            "flex": null,
            "flex_flow": null,
            "grid_area": null,
            "grid_auto_columns": null,
            "grid_auto_flow": null,
            "grid_auto_rows": null,
            "grid_column": null,
            "grid_gap": null,
            "grid_row": null,
            "grid_template_areas": null,
            "grid_template_columns": null,
            "grid_template_rows": null,
            "height": null,
            "justify_content": null,
            "justify_items": null,
            "left": null,
            "margin": null,
            "max_height": null,
            "max_width": null,
            "min_height": null,
            "min_width": null,
            "object_fit": null,
            "object_position": null,
            "order": null,
            "overflow": null,
            "overflow_x": null,
            "overflow_y": null,
            "padding": null,
            "right": null,
            "top": null,
            "visibility": null,
            "width": null
          }
        },
        "ef4a0cece77241e9b0ff9c89f64fceb3": {
          "model_module": "@jupyter-widgets/base",
          "model_name": "LayoutModel",
          "model_module_version": "1.2.0",
          "state": {
            "_model_module": "@jupyter-widgets/base",
            "_model_module_version": "1.2.0",
            "_model_name": "LayoutModel",
            "_view_count": null,
            "_view_module": "@jupyter-widgets/base",
            "_view_module_version": "1.2.0",
            "_view_name": "LayoutView",
            "align_content": null,
            "align_items": null,
            "align_self": null,
            "border": null,
            "bottom": null,
            "display": null,
            "flex": null,
            "flex_flow": null,
            "grid_area": null,
            "grid_auto_columns": null,
            "grid_auto_flow": null,
            "grid_auto_rows": null,
            "grid_column": null,
            "grid_gap": null,
            "grid_row": null,
            "grid_template_areas": null,
            "grid_template_columns": null,
            "grid_template_rows": null,
            "height": null,
            "justify_content": null,
            "justify_items": null,
            "left": null,
            "margin": null,
            "max_height": null,
            "max_width": null,
            "min_height": null,
            "min_width": null,
            "object_fit": null,
            "object_position": null,
            "order": null,
            "overflow": null,
            "overflow_x": null,
            "overflow_y": null,
            "padding": null,
            "right": null,
            "top": null,
            "visibility": null,
            "width": null
          }
        },
        "d767846163a54bc3a626ee14bbd86864": {
          "model_module": "@jupyter-widgets/controls",
          "model_name": "DescriptionStyleModel",
          "model_module_version": "1.5.0",
          "state": {
            "_model_module": "@jupyter-widgets/controls",
            "_model_module_version": "1.5.0",
            "_model_name": "DescriptionStyleModel",
            "_view_count": null,
            "_view_module": "@jupyter-widgets/base",
            "_view_module_version": "1.2.0",
            "_view_name": "StyleView",
            "description_width": ""
          }
        },
        "a9b1a87a877748eebb81fc5653284ef6": {
          "model_module": "@jupyter-widgets/base",
          "model_name": "LayoutModel",
          "model_module_version": "1.2.0",
          "state": {
            "_model_module": "@jupyter-widgets/base",
            "_model_module_version": "1.2.0",
            "_model_name": "LayoutModel",
            "_view_count": null,
            "_view_module": "@jupyter-widgets/base",
            "_view_module_version": "1.2.0",
            "_view_name": "LayoutView",
            "align_content": null,
            "align_items": null,
            "align_self": null,
            "border": null,
            "bottom": null,
            "display": null,
            "flex": null,
            "flex_flow": null,
            "grid_area": null,
            "grid_auto_columns": null,
            "grid_auto_flow": null,
            "grid_auto_rows": null,
            "grid_column": null,
            "grid_gap": null,
            "grid_row": null,
            "grid_template_areas": null,
            "grid_template_columns": null,
            "grid_template_rows": null,
            "height": null,
            "justify_content": null,
            "justify_items": null,
            "left": null,
            "margin": null,
            "max_height": null,
            "max_width": null,
            "min_height": null,
            "min_width": null,
            "object_fit": null,
            "object_position": null,
            "order": null,
            "overflow": null,
            "overflow_x": null,
            "overflow_y": null,
            "padding": null,
            "right": null,
            "top": null,
            "visibility": null,
            "width": null
          }
        },
        "c5d5aecd4ba24c368c33b17e727681a8": {
          "model_module": "@jupyter-widgets/controls",
          "model_name": "ProgressStyleModel",
          "model_module_version": "1.5.0",
          "state": {
            "_model_module": "@jupyter-widgets/controls",
            "_model_module_version": "1.5.0",
            "_model_name": "ProgressStyleModel",
            "_view_count": null,
            "_view_module": "@jupyter-widgets/base",
            "_view_module_version": "1.2.0",
            "_view_name": "StyleView",
            "bar_color": null,
            "description_width": ""
          }
        },
        "3282d1acf8e343f2930584363d413072": {
          "model_module": "@jupyter-widgets/base",
          "model_name": "LayoutModel",
          "model_module_version": "1.2.0",
          "state": {
            "_model_module": "@jupyter-widgets/base",
            "_model_module_version": "1.2.0",
            "_model_name": "LayoutModel",
            "_view_count": null,
            "_view_module": "@jupyter-widgets/base",
            "_view_module_version": "1.2.0",
            "_view_name": "LayoutView",
            "align_content": null,
            "align_items": null,
            "align_self": null,
            "border": null,
            "bottom": null,
            "display": null,
            "flex": null,
            "flex_flow": null,
            "grid_area": null,
            "grid_auto_columns": null,
            "grid_auto_flow": null,
            "grid_auto_rows": null,
            "grid_column": null,
            "grid_gap": null,
            "grid_row": null,
            "grid_template_areas": null,
            "grid_template_columns": null,
            "grid_template_rows": null,
            "height": null,
            "justify_content": null,
            "justify_items": null,
            "left": null,
            "margin": null,
            "max_height": null,
            "max_width": null,
            "min_height": null,
            "min_width": null,
            "object_fit": null,
            "object_position": null,
            "order": null,
            "overflow": null,
            "overflow_x": null,
            "overflow_y": null,
            "padding": null,
            "right": null,
            "top": null,
            "visibility": null,
            "width": null
          }
        },
        "3dc4b3add43b4fd8b6db38c14bdcc950": {
          "model_module": "@jupyter-widgets/controls",
          "model_name": "DescriptionStyleModel",
          "model_module_version": "1.5.0",
          "state": {
            "_model_module": "@jupyter-widgets/controls",
            "_model_module_version": "1.5.0",
            "_model_name": "DescriptionStyleModel",
            "_view_count": null,
            "_view_module": "@jupyter-widgets/base",
            "_view_module_version": "1.2.0",
            "_view_name": "StyleView",
            "description_width": ""
          }
        }
      }
    }
  },
  "nbformat": 4,
  "nbformat_minor": 0
}